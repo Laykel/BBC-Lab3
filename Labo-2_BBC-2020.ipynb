{
 "cells": [
  {
   "cell_type": "markdown",
   "metadata": {},
   "source": [
    "# BBC - Laboratoire 2\n",
    "## Alignement de séquences et arbres phylogénétiques\n",
    "\n",
    "- Professeur: Carlos Peña (<a href=\"mailto:carlos.pena@heig-vd.ch\">carlos.pena@heig-vd.ch</a>)\n",
    "- Assistant: Xavier Brochet (<a href=\"mailto:xavier.brochet@heig-vd.ch\">xavier.brochet@heig-vd.ch</a>)\n",
    "\n",
    "Date: Printemps 2020"
   ]
  },
  {
   "cell_type": "markdown",
   "metadata": {},
   "source": [
    "> ## Objectifs pédagogiques\n",
    "Pour réaliser ce laboratoire, du vocabulaire et des notions de base en biologie seront introduits ou perfectionnés (revoir Labo-1 si nécessaire). A la fin du laboratoire, l’étudiant devrait:\n",
    "- Etre à l’aise avec l’utilisation d’Entrez Direct pour accéder à Genbank.\n",
    "- Savoir utiliser des outils d’alignement de séquence, à l’aide du logiciel Aliview et avec la librairie biopython.\n",
    "- Savoir construire un arbre phylogénétique à partir d’un alignement et l’interpréter.\n",
    "\n",
    "\n",
    "> ## But du labo\n",
    "La septicémie hémorragique virale est une maladie très contagieuse et mortelle qui touche les poissons de type salmonidés (les humains ne sont pas touchés). Elle est causée par un virus qui engendre chaque année de grosses pertes économiques pour les pisciculteurs. Votre but est de visualiser comment le virus se propage dans le monde, en comparant les séquences de la protéine G (glycoprotéine se trouvant à la surface du virus) de plusieurs isolats.\n",
    "\n",
    "> ## Démarche\n",
    "1. Visualisation de la présence du virus dans le monde (Genbank, Entrez Direct et biopython).\n",
    "2. Alignement des séquences protéiques pour pouvoir les comparer (MUSCLE, (ClustalW), Clustal Omega).\n",
    "3. Construction de l’arbre phylogénétique et clustering hiérarchique pour identifier des groupes d’isolats similaires.\n",
    "\n",
    "\n",
    "> ## Rapport de labo\n",
    "\n",
    "> <p >Merci de répondre aux questions posées sur fond cyan de façon concise dans la cellule située <u>juste en dessous</u>, et de nous retourner ce notebook.\n",
    "> <p style=\"background-color:#AFEEEE;padding:3px\"><font size=\"4\"><b>0. </b></font> Ceci est une question.</p>"
   ]
  },
  {
   "cell_type": "markdown",
   "metadata": {},
   "source": [
    "## 1. Le virus dans le monde - visualisation d’isolats séquencés\n",
    "\n",
    "Comme lors du premier labo, vous allez apprendre à utiliser certains outils à la fois en mode graphique et en mode ligne de commande.\n",
    "\n",
    "Votre premier objectif est de récupérer sur Genbank la localisation géographique de toutes les souches séquencées du virus (protéine G uniquement) et de les visualiser sur une carte du monde.\n",
    "\n",
    "<b>→ Depuis votre navigateur, allez sur le site de [Genbank](http://www.ncbi.nlm.nih.gov/genbank/) et dans la barre de recherche, tapez</b>: G[gene] AND VHSV[orgn] NOT \"mRNA\"[title] AND \"complete cds\"[title]\n",
    "\n",
    "Cette requête limite les recherches aux entrées dont le nom du gène s’intitule G, dont l’organisme est le VHSV (Viral Hemorrhagic Septicemia Virus), dont le titre ne contient pas le mot “mRNA” et dont la séquence est complète.\n",
    "\n",
    "<b>→ Cliquez sur la deuxième entrée: https://www.ncbi.nlm.nih.gov/nuccore/MH836523.1</b>\n",
    "\n",
    "Dans la partie FEATURES - source, vous pouvez voir que le pays d’origine est Islande.\n",
    "\n",
    "<b>→ Cliquez sur cette entrée: [http://www.ncbi.nlm.nih.gov/nuccore/341904092](http://www.ncbi.nlm.nih.gov/nuccore/341904092) </b>\n",
    "Vous pouvez voir qu’en plus du pays, la latitude et la longitude sont également indiqués.\n",
    "\n",
    "<p style=\"background-color:#AFEEEE;padding:3px\"><font size=\"4\"><b>1.1 </b></font>Quelles sont les coordonnées (latitude, longitude) et pays d’origine de l’isolat dont l'ACCESSION=HQ112233 et gi=341904064 (attention le gi n'est officiellement plus utilisé)?</p>"
   ]
  },
  {
   "cell_type": "markdown",
   "metadata": {},
   "source": [
    "Votre réponse..."
   ]
  },
  {
   "cell_type": "markdown",
   "metadata": {},
   "source": [
    "Votre recherche avec la requête initiale a retourné 390 entrées. Afin de récupérer les données géographiques de tous les isolats, il vous faut avoir recours à un langage de script. Comme vu au Labo-1, nous ferons appel à Entrez Direct en utilisant la librairie biopython.\n",
    "\n",
    "<b>→ Importez les modules suivants</b>"
   ]
  },
  {
   "cell_type": "code",
   "execution_count": null,
   "metadata": {},
   "outputs": [],
   "source": [
    "from Bio import Entrez\n",
    "Entrez.email = \"prenom.nom@heig-vd.ch\" # une adresse email valide est nécessaire\n",
    "from mpl_toolkits.basemap import Basemap # pour dessiner une carte du monde\n",
    "import matplotlib.pyplot as plt # pour générer des graphiques\n",
    "%matplotlib inline"
   ]
  },
  {
   "cell_type": "markdown",
   "metadata": {},
   "source": [
    "<b>→ Commencez par récupérer les identifiants gi correspondant à la requête en utilisant Entrez.esearch()</b>"
   ]
  },
  {
   "cell_type": "code",
   "execution_count": null,
   "metadata": {},
   "outputs": [],
   "source": [
    "query = 'G[gene] AND VHSV[orgn] NOT \"mRNA\"[title] AND \"complete cds\"[title]'\n",
    "handle = Entrez.esearch(db='nucleotide',retmax=1000,term=query)\n",
    "record = Entrez.read(handle)\n",
    "gi = record['IdList']\n",
    "print(gi)"
   ]
  },
  {
   "cell_type": "markdown",
   "metadata": {},
   "source": [
    "<b>→ Allez chercher les informations Genbank sur ces séquences en utilisant Entrez.efetch()</b>"
   ]
  },
  {
   "cell_type": "code",
   "execution_count": null,
   "metadata": {
    "scrolled": true
   },
   "outputs": [],
   "source": [
    "protein_info = Entrez.efetch(db=\"nucleotide\",id=gi,rettype=\"gb\",retmode=\"xml\")\n",
    "protein_info = Entrez.read(protein_info)"
   ]
  },
  {
   "cell_type": "markdown",
   "metadata": {},
   "source": [
    "<font face='courier'>protein_info</font> est une liste de 390 éléments. Chaque élément consiste en une structure de listes et dictionnaires contenant toute l’information de Genbank correpondant à la requête.\n",
    "\n",
    "<b>→ Imprimez le dixième élément de protein_info et quelques unes de ses caractéristiques.</b>\n"
   ]
  },
  {
   "cell_type": "code",
   "execution_count": null,
   "metadata": {
    "scrolled": true
   },
   "outputs": [],
   "source": [
    "print(protein_info[10])\n",
    "print('')\n",
    "print('')\n",
    "print(protein_info[10].keys())\n",
    "print('')\n",
    "print('')\n",
    "features = protein_info[10]['GBSeq_feature-table'][0]['GBFeature_quals']\n",
    "print(features)"
   ]
  },
  {
   "cell_type": "markdown",
   "metadata": {},
   "source": [
    "<p style=\"background-color:#AFEEEE;padding:3px\"><font size=\"4\"><b>1.2 </b></font> Quel est le pays d’origine du 60ème isolat dans notre liste?\n",
    "</p>"
   ]
  },
  {
   "cell_type": "markdown",
   "metadata": {},
   "source": [
    "Votre réponse..."
   ]
  },
  {
   "cell_type": "markdown",
   "metadata": {},
   "source": [
    "<b>→ Pour extraire le pays automatiquement, faites une boucle sur les features jusqu’à tomber sur “country”:</b>"
   ]
  },
  {
   "cell_type": "code",
   "execution_count": null,
   "metadata": {},
   "outputs": [],
   "source": [
    "for j,feat in enumerate(features):\n",
    "    if feat['GBQualifier_name']=='country':\n",
    "        print(\"Pays d'origine: \"+feat['GBQualifier_value'].split(':')[0])"
   ]
  },
  {
   "cell_type": "markdown",
   "metadata": {},
   "source": [
    "<p style=\"background-color:#AFEEEE;padding:3px\"><font size=\"4\"><b>1.3 </b></font> Généralisez ce code pour qu’il imprime le pays d’origine des 390 isolats et enregistre le résultat dans une variable (liste de 390 éléments) appelée <font face='courier'>country</font> (si le pays n’est pas disponible, ajoutez le texte ‘NA’ (not available) à la place).\n",
    "</p>"
   ]
  },
  {
   "cell_type": "code",
   "execution_count": null,
   "metadata": {},
   "outputs": [],
   "source": [
    "#Votre code..."
   ]
  },
  {
   "cell_type": "markdown",
   "metadata": {},
   "source": [
    "<b>→ Pour certains isolats, la latitude et la longitude sont également indiqués. Par exemple, exécutez:</b>\n"
   ]
  },
  {
   "cell_type": "code",
   "execution_count": null,
   "metadata": {},
   "outputs": [],
   "source": [
    "print(protein_info[295]['GBSeq_feature-table'][0]['GBFeature_quals'])"
   ]
  },
  {
   "cell_type": "markdown",
   "metadata": {},
   "source": [
    "Dans ce cas, <font face='courier'>lat_lon = 60.29 N 21.29 E</font> (latitude 60.29°, longitude 21.29°).\n",
    "\n",
    "<p style=\"background-color:#AFEEEE;padding:3px\"><font size=\"4\"><b>1.4 </b></font>  Généralisez votre code pour qu’il enregistre aussi la latitude et la longitude dans deux variables séparées (mettez un <font face='courier'>float(‘nan’)</font> si elles ne sont pas disponibles). Astuce: Utilisez la fonction split(‘ ‘) pour extraire les nombres qui vous intéressent de lat_lon (à convertir en float aussi). \n",
    "</p>"
   ]
  },
  {
   "cell_type": "code",
   "execution_count": null,
   "metadata": {},
   "outputs": [],
   "source": [
    "#Votre code...      "
   ]
  },
  {
   "cell_type": "markdown",
   "metadata": {},
   "source": [
    "Comme vous le verrez, la latitude et la longitude ne sont disponibles que pour un petit nombre d’isolats, alors que le pays d’origine est connu pour la majorité d’entre eux. Afin de pouvoir représenter les isolats sur une carte du monde, nous allons utiliser une valeur moyenne de latitude et de longitude par pays pour les isolats dont on ne connaît que le pays d’origine.\n",
    "\n",
    "<b>→ Utilisez la librairie pandas pour lire le fichier countries_latlon.csv.</b>\n",
    "> En cas de soucis d'encodage, ajoutez les lignes suivantes à ~./bash_profile et re-lancez ipython notebook:\n",
    "> <p>export LC_ALL=en_US.UTF-8</p>\n",
    "> export LANG=en_US.UTF-8"
   ]
  },
  {
   "cell_type": "code",
   "execution_count": null,
   "metadata": {},
   "outputs": [],
   "source": [
    "import pandas as pd # très utile pour lire des fichiers du type csv, tsv, etc.\n",
    "country_latlon = pd.read_csv('countries_latlon.csv',sep='\\t',header=0)\n",
    "print(country_latlon)"
   ]
  },
  {
   "cell_type": "markdown",
   "metadata": {
    "collapsed": true
   },
   "source": [
    "<b>→ Pour trouver la latitude et la longitude moyenne de l’Iran par exemple, exécutez le code suivant:</b>"
   ]
  },
  {
   "cell_type": "code",
   "execution_count": null,
   "metadata": {},
   "outputs": [],
   "source": [
    "idx_country = list(country_latlon['country']).index('Iran')\n",
    "lat = country_latlon['latitude'][idx_country]\n",
    "lon = country_latlon['longitude'][idx_country]\n",
    "print('Latitude: '+str(lat))\n",
    "print('Longitude: '+str(lon))"
   ]
  },
  {
   "cell_type": "markdown",
   "metadata": {},
   "source": [
    "<p style=\"background-color:#AFEEEE;padding:3px\"><font size=\"4\"><b>1.5 (a) </b></font> Généralisez votre code pour qu’il enregistre la latitude et la longitude moyenne lorsque celles-ci ne sont pas disponibles mais que vous connaissez le pays d’origine.</p>\n",
    "\n",
    "<p style=\"background-color:#AFEEEE;padding:3px\"><font size=\"4\"><b>1.5 (b) </b></font>Afin de retrouver facilement les isolats par leur accession.version (en plus du gi), définissez aussi <font face='courier'>name=[]</font> et rajoutez dans votre boucle </b><font face='courier'>name.append(protein_info[i]['GBSeq_accession-version'])</font>\n",
    "</p>"
   ]
  },
  {
   "cell_type": "code",
   "execution_count": 26,
   "metadata": {},
   "outputs": [],
   "source": [
    "#Votre code pour 1.5a et 1.5b..."
   ]
  },
  {
   "cell_type": "markdown",
   "metadata": {},
   "source": [
    "<p style=\"background-color:#AFEEEE;padding:3px\"><font size=\"4\"><b>1.5 (c) </b></font>Réécrire le code mais en éliminant les isolats dont le pays n'est pas indiqué. Garder la même structure <font face='courier'> country = [], lat = [], long = [], name=[].</font></p>"
   ]
  },
  {
   "cell_type": "code",
   "execution_count": null,
   "metadata": {},
   "outputs": [],
   "source": [
    "#Votre code 1.5c..."
   ]
  },
  {
   "cell_type": "markdown",
   "metadata": {},
   "source": [
    "<b>→ Connaissant la latitude et la longitude de la majorité des isolats, représentez-les graphiquement sur une carte du monde:</b>\n"
   ]
  },
  {
   "cell_type": "code",
   "execution_count": null,
   "metadata": {
    "scrolled": true
   },
   "outputs": [],
   "source": [
    "%matplotlib inline\n",
    "import matplotlib.pyplot as plt\n",
    "from mpl_toolkits.basemap import Basemap\n",
    "\n",
    "fig = plt.figure(num=None,figsize=(10,7),dpi=150) # ouvre une fenêtre\n",
    "m = Basemap(projection='kav7',lon_0=0,lat_0=60) # carte du monde avec projection\n",
    "x, y = m(long,lat) # transforme lat,lon avec la projection utilisée\n",
    "m.scatter(x,y,7,marker='.',color='r') # représente les isolats en rouge\n",
    "m.fillcontinents(zorder=0) # dessine les continents\n",
    "plt.show()     \n",
    "fig.savefig('map_isolats.png', dpi=fig.dpi) # sauve la figure"
   ]
  },
  {
   "cell_type": "markdown",
   "metadata": {},
   "source": [
    "<p style=\"background-color:#AFEEEE;padding:3px\"><font size=\"4\"><b>1.6 </b></font>A votre avis, s’agit-il d’un virus qui se reproduit dans les eaux chaudes ou plutôt dans les eaux froides?</p>"
   ]
  },
  {
   "cell_type": "markdown",
   "metadata": {},
   "source": [
    "Votre réponse..."
   ]
  },
  {
   "cell_type": "markdown",
   "metadata": {},
   "source": [
    "\n",
    "\n",
    "\n",
    "## 2. Alignement des séquences protéiques pour pouvoir les comparer\n",
    "Afin de comprendre comment le virus s’est propagé dans le monde, nous allons comparer les séquences protéiques des différents isolats. Ceci nous permettra de regrouper les isolats “les plus similaires” et nous ferons l’hypothèse vraisemblable qu’il ont une origine commune du fait de leur similarité.\n",
    "\n",
    "Pour comparer les séquences protéiques et voir à quel point elles diffèrent, il est nécessaire de commencer par les aligner. Vous allez apprendre à utiliser l’outil graphique Aliview pour aligner les séquences et les inspecter visuellement. Vous verrez par la suite comment réaliser ces mêmes opérations directement en python avec la librairie biopython, ce qui vous permettra d’automatiser le processus.\n",
    "\n",
    "<b>→ Utilisez la liste de gi pour pouvoir générer un fichier fasta contenant toutes les séquences protéiques qui nous intéressent (pour rappel, notre requête initiale était: <font face='courier'>'G[gene] AND VHSV[orgn] NOT \"mRNA\"[title]\"</font></b>\n"
   ]
  },
  {
   "cell_type": "code",
   "execution_count": null,
   "metadata": {},
   "outputs": [],
   "source": [
    "from Bio import SeqIO\n",
    "print(len(gi))\n",
    "#print(len(giWCountry))\n",
    "protein_seq = Entrez.efetch(db=\"nucleotide\",id=gi,rettype=\"fasta_cds_aa\",retmode=\"text\")\n",
    "#protein_seq = Entrez.efetch(db=\"nucleotide\",id=giWCountry,rettype=\"fasta_cds_aa\",retmode=\"text\")\n",
    "protein_seq = list(SeqIO.parse(protein_seq, \"fasta\"))\n",
    "print(len(protein_seq))"
   ]
  },
  {
   "cell_type": "markdown",
   "metadata": {},
   "source": [
    "<b>→ Imprimez l’élément 0 et l’élément 212 de <font face='courier'>protein_seq</font></b>"
   ]
  },
  {
   "cell_type": "code",
   "execution_count": null,
   "metadata": {},
   "outputs": [],
   "source": [
    "print(protein_seq[0])\n",
    "print('')\n",
    "print(protein_seq[212])\n",
    "print('')\n",
    "print(len(protein_seq))"
   ]
  },
  {
   "cell_type": "markdown",
   "metadata": {},
   "source": [
    "<p style=\"background-color:#AFEEEE;padding:3px\"><font size=\"4\"><b>2.1 </b></font>Que constatez-vous concernant le nom du gène de <font face='courier'>protein_seq[212]</font> et le nombre d'entrées retournées? Pourquoi ce gène apparaît-il dans notre liste si la requête initiale exigeait “G[gene]” (astuce: allez voir sur le site de Genbank l'entrée correspondant à l’identifiant KM244768).</p>"
   ]
  },
  {
   "cell_type": "markdown",
   "metadata": {},
   "source": [
    "Votre réponse..."
   ]
  },
  {
   "cell_type": "markdown",
   "metadata": {},
   "source": [
    "Avant de continuer, nous devons donc nous assurer que seules les séquences protéiques correspondant au gène G sont gardées.\n",
    "\n",
    "<b>→ Faites une boucle pour tester le nom du gène</b>\n"
   ]
  },
  {
   "cell_type": "code",
   "execution_count": null,
   "metadata": {},
   "outputs": [],
   "source": [
    "print(len(protein_seq))\n",
    "updated_protein_seq = [ ps for i,ps in enumerate(protein_seq) if ps.description.find('gene=G')>0 ]\n",
    "print(len(updated_protein_seq))\n",
    "\n",
    "# verify visually that only G genes are left\n",
    "desc = [ps.description for i,ps in enumerate(updated_protein_seq)]\n",
    "desc"
   ]
  },
  {
   "cell_type": "markdown",
   "metadata": {},
   "source": [
    "<b>→ Maintenant que vous avez les séquences du gène G uniquement, remplacez l'id par le numéro d'accès et le nom du pays source (ceci facilitera les analyses par la suite).</b>"
   ]
  },
  {
   "cell_type": "code",
   "execution_count": null,
   "metadata": {},
   "outputs": [],
   "source": [
    "print(len(updated_protein_seq))\n",
    "for i,ps in enumerate(updated_protein_seq):\n",
    "    access_number = ps.name.split('|')[1].split('_')[0]\n",
    "    print(str(i)+\" \"+country[i])\n",
    "    country_tmp = country[i].replace(' ','-')\n",
    "    updated_protein_seq[i].description = ''\n",
    "    updated_protein_seq[i].id = access_number+'_'+country_tmp"
   ]
  },
  {
   "cell_type": "markdown",
   "metadata": {},
   "source": [
    "<b>→ Créez un fichier FASTA avec ces séquences et ouvrez-le avec un éditeur de texte pour voir ce qu'il contient.</b>"
   ]
  },
  {
   "cell_type": "code",
   "execution_count": null,
   "metadata": {},
   "outputs": [],
   "source": [
    "output_handle = open('labo-2_protein-sequences.fasta', 'w')\n",
    "SeqIO.write(updated_protein_seq, output_handle, \"fasta\")\n",
    "output_handle.close()"
   ]
  },
  {
   "cell_type": "markdown",
   "metadata": {},
   "source": [
    "Installation de Aliview: https://ormbunkar.se/aliview/\n",
    "\n",
    "<b>→ Sur votre ordinateur, lancez le programme Aliview et utilisez File > Open File pour ouvrir le fichier que vous venez de créer.</b>"
   ]
  },
  {
   "cell_type": "markdown",
   "metadata": {},
   "source": [
    "<b>→ Sur Aliview, allez sur Align > Realign everything et cliquez sur Ok.</b>\n",
    "\n",
    "Par défaut, Aliview utilise l’algorithme MUSCLE pour aligner les séquences. \n",
    "\n",
    "<b>→ Sur Aliview, inspectez l’alignement visuellement et assurez-vous que tout semble normal.</b>\n",
    "\n",
    "<p style=\"background-color:#AFEEEE;padding:3px\"><font size=\"4\"><b>2.2 </b></font>Pourquoi est-ce que l'une des séquences est plus courte que les autres? Astuce: allez sur Genbank depuis votre navigateur pour voir l'entrée correspondant à la séquence très courte.</p>\n"
   ]
  },
  {
   "cell_type": "markdown",
   "metadata": {},
   "source": [
    "Votre réponse... (25 mots maximum)"
   ]
  },
  {
   "cell_type": "markdown",
   "metadata": {},
   "source": [
    "Sur Aliview, il est possible d’enregistrer l’alignement: File > Save as Clustal (aln). \n",
    "\n",
    "Pour la suite du labo, nous allons générer ce même alignement à l’aide de la librairie biopython et faire quelques analyses sur cet alignement.\n",
    "\n",
    "<b>→ Importez les modules suivants:</b>"
   ]
  },
  {
   "cell_type": "code",
   "execution_count": null,
   "metadata": {},
   "outputs": [],
   "source": [
    "from Bio.Align.Applications import MuscleCommandline\n",
    "from Bio import AlignIO"
   ]
  },
  {
   "cell_type": "markdown",
   "metadata": {},
   "source": [
    "<b>→ Spécifiez le chemin vers votre exécutable muscle</b>\n",
    "https://drive5.com/muscle/downloads.htm"
   ]
  },
  {
   "cell_type": "code",
   "execution_count": null,
   "metadata": {},
   "outputs": [],
   "source": [
    "muscle_loc = r'/Users/..../muscle3.8.31_i86darwin64' #mettre le vrai chemin"
   ]
  },
  {
   "cell_type": "markdown",
   "metadata": {},
   "source": [
    "<b>→ Réalisez l’alignement à partir du fichier FASTA contenant les séquences</b>"
   ]
  },
  {
   "cell_type": "code",
   "execution_count": null,
   "metadata": {
    "scrolled": true
   },
   "outputs": [],
   "source": [
    "in_file = 'labo-2_protein-sequences.fasta'\n",
    "out_file = 'labo-2_protein-sequences.aln'\n",
    "\n",
    "muscle_cline = MuscleCommandline(cmd=muscle_loc,input=in_file,out=out_file,clwstrict=True)\n",
    "stdout, stderr = muscle_cline()\n",
    "\n",
    "muscle_align = AlignIO.read(out_file,'clustal') # this command actually performs the alignment\n",
    "print(muscle_align)"
   ]
  },
  {
   "cell_type": "markdown",
   "metadata": {},
   "source": [
    "Le fichier .aln généré peut être ouvert dans Aliview pour l’inspecter visuellement.\n",
    "\n",
    "## 3. Construction de l’arbre phylogénétique et clustering hiérarchique pour identifier des groupes similaires\n",
    "A partir de cet alignement, il est possible de générer un arbre phylogénétique. Par souci de temps, nous utiliserons FastTree qui est très rapide, même si cet outil n’est pas le mieux adapté pour construire un arbre phylogénétique à partir de séquences très proches comme c’est le cas ici.\n",
    "\n",
    "<b>→ Générez l’arbre avec FastTree: http://microbesonline.org/fasttree/#Install </b>\n"
   ]
  },
  {
   "cell_type": "code",
   "execution_count": null,
   "metadata": {
    "scrolled": true
   },
   "outputs": [],
   "source": [
    "from Bio.Phylo.Applications import FastTreeCommandline\n",
    "\n",
    "# convert aln to phy format\n",
    "out_phy = 'labo-2_protein-sequences.phy'\n",
    "AlignIO.convert(out_file,'clustal',out_phy, 'phylip-relaxed')\n",
    "\n",
    "# generate the phylogenetic tree with FastTree\n",
    "out_tree = 'labo-2_protein-sequences.tre'\n",
    "cmd_fasttree = r'/Users/.../FastTree' # modifier si nécessaire\n",
    "\n",
    "fasttree_cmdline = FastTreeCommandline(cmd=cmd_fasttree,fastest=True,input=out_phy,out=out_tree)\n",
    "out_log, err_log = fasttree_cmdline()\n",
    "\n",
    "# load tree\n",
    "from Bio import Phylo\n",
    "tree = Phylo.read('labo-2_protein-sequences.tre', 'newick')"
   ]
  },
  {
   "cell_type": "markdown",
   "metadata": {},
   "source": [
    "<b>→ Ouvrez le fichier <font face='courier'>labo-2_protein-sequences.tre</font> dans TreeViewX et choisissez le mode de visualisation “phylogram” (bouton en haut à droite) et zoomez pour voir les groupes.</b>\n",
    "\n",
    "Utilisation de http://ab.inf.uni-tuebingen.de/data/software/dendroscope3/download/welcome.html\n",
    "ou de iToL en ligne... https://itol.embl.de/\n",
    "\n",
    "<p style=\"background-color:#AFEEEE;padding:3px\"><font size=\"4\"><b>3.1 </b></font>De quels pays vient l'isolat le plus proches des isolats de Corée du Sud?</p>"
   ]
  },
  {
   "cell_type": "markdown",
   "metadata": {},
   "source": [
    "Votre réponse..."
   ]
  },
  {
   "cell_type": "markdown",
   "metadata": {},
   "source": [
    "Combien de groupes voyez-vous? \n",
    "Ca dépend! Le nombre de groupes dépend du seuil utilisé pour admettre, ou non, que deux isolats font partie du même groupe. \n",
    "\n",
    "Afin de mieux visualiser la propagation du virus dans le monde, nous allons regrouper les séquences (i.e. les isolats) en 4 groupes et voir leur localisation géographique sur une carte du monde. Pour obtenir ces 4 groupes, nous allons commencer par calculer les distances (phylogénétiques) entre les isolats et réaliser un clustering hiérarchique à partir duquel nous obtiendrons 4 groupes.\n",
    "\n",
    "<b>→ Calculez les distances entre les isolats</b> (ceci peut prendre un petit moment...)\n"
   ]
  },
  {
   "cell_type": "code",
   "execution_count": null,
   "metadata": {},
   "outputs": [],
   "source": [
    "dmat = []\n",
    "leaves = [str(cladit) for k,cladit in enumerate(tree.get_terminals())]\n",
    "for l1,leave1 in enumerate(leaves):\n",
    "    d = []\n",
    "    for l2,leave2 in enumerate(leaves):\n",
    "        d.append(tree.distance(leave1,leave2))\n",
    "    dmat.append(d)"
   ]
  },
  {
   "cell_type": "markdown",
   "metadata": {},
   "source": [
    "<b>→ Réalisez le clustering hiérarchique et visualisez le dendrogram obtenu (double-cliquez sur le graphique pour l'agrandir)</b>"
   ]
  },
  {
   "cell_type": "code",
   "execution_count": null,
   "metadata": {},
   "outputs": [],
   "source": [
    "import scipy.cluster.hierarchy as cl\n",
    "import scipy.spatial.distance as ssd\n",
    "\n",
    "Z = cl.linkage(ssd.squareform(dmat),method='average',metric='euclidean')\n",
    "fig = plt.figure(num=None,figsize=(60,15),dpi=250)\n",
    "dendro=cl.dendrogram(Z,labels=leaves,color_threshold=0.06,leaf_rotation=90,leaf_font_size=9)\n",
    "plt.show()"
   ]
  },
  {
   "cell_type": "markdown",
   "metadata": {},
   "source": [
    "<b>→ Représentez les isolats de chaque groupe sur une carte du monde</b>"
   ]
  },
  {
   "cell_type": "code",
   "execution_count": null,
   "metadata": {},
   "outputs": [],
   "source": [
    "nb_clusters = 4\n",
    "clusters = cl.fcluster(Z,nb_clusters,criterion='maxclust')\n",
    "\n",
    "for i in range(1,max(clusters)+1):\n",
    "\n",
    "    idxi = [j for j,cluster in enumerate(clusters) if cluster==i]\n",
    "    \n",
    "    lat_tmp = []\n",
    "    lon_tmp = []\n",
    "    for j,idxj in enumerate(idxi):\n",
    "        access_number_of_leave = leaves[idxj].split('_')[0]\n",
    "        lat_tmp.append(lat[name.index(access_number_of_leave)])\n",
    "        lon_tmp.append(long[name.index(access_number_of_leave)])\n",
    "    \n",
    "    # plot\n",
    "    fig = plt.figure(num=None,figsize=(7,6),dpi=150)   \n",
    "    m = Basemap(projection='kav7',lon_0=0,lat_0=60)\n",
    "    x, y = m(lon_tmp,lat_tmp) # transform (lat,lon) with the projection\n",
    "    m.scatter(x,y,7,marker='.',color='k')\n",
    "    m.fillcontinents(zorder=0)\n",
    "    plt.title('Group '+str(i))\n",
    "    plt.show()        \n",
    "    fig.savefig('map_isolats-'+str(i)+'.png', dpi=fig.dpi)"
   ]
  },
  {
   "cell_type": "markdown",
   "metadata": {},
   "source": [
    "Sur plusieurs de ces figures, vous pouvez voir que le virus “voyage” parfois même de très longues distances. L’une des raisons principales de cette propagation vient de l’échange d’oeufs et de larves de poissons contaminés entre pisciculteurs du monde entier (p.ex. entre l’Amérique du Nord et l’Asie).\n",
    "\n",
    "<p style=\"background-color:#AFEEEE;padding:3px\"><font size=\"4\"><b>3.2 </b></font>A l’aide du tableau ci-dessous, définissez le(s) genotype(s) probable auxquels appartiennent les 4 groupes identifiés. \n",
    "</p>\n",
    "\n",
    "<i>Nota: Ces génotypes ont été définis en comparant les séquences des protéines G et N, alors qu’ici nous n’avons étudié que la protéine G.</i>\n",
    "\n",
    "<table>\n",
    "\n",
    "<tr>\n",
    "<td><b>Type</b></td>\n",
    "<td><b>Prevalent host type and location (source: <a href=\"https://en.wikipedia.org/wiki/Viral_hemorrhagic_septicemia\">Wikipedia</a>)</b></td>\n",
    "</tr>\n",
    "\n",
    "<tr>\n",
    "<td>I-a</td>\n",
    "<td>Farmed rainbow trout and a few other freshwater fish in continental Europe</td>\n",
    "</tr>\n",
    "\n",
    "<tr>\n",
    "<td>I-b</td>\n",
    "<td>Marine fish of the Baltic Sea, Skagerrak, Kattegat, North Sea, Japan</td>\n",
    "</tr>\n",
    "\n",
    "<tr>\n",
    "<td>I-c</td>\n",
    "<td>Farmed rainbow trout Denmark</td>\n",
    "</tr>\n",
    "\n",
    "<tr>\n",
    "<td>I-d</td>\n",
    "<td>Farmed rainbow trout in Norway, Finland, Gulf of Bothnia</td>\n",
    "</tr>\n",
    "\n",
    "<tr>\n",
    "<td>I-e</td>\n",
    "<td>Rainbow trout in Georgia, farmed and wild turbot in the Black Sea</td>\n",
    "</tr>\n",
    "\n",
    "<tr>\n",
    "<td>II</td>\n",
    "<td>Marine fish of the Baltic Sea</td>\n",
    "</tr>\n",
    "\n",
    "<tr>\n",
    "<td>III</td>\n",
    "<td>Marine fish of the British Isles and northern France, farmed turbot in the UK and Ireland, and Greenland halibut (Reinhardtius hippoglossoides) in Greenland</td>\n",
    "</tr>\n",
    "\n",
    "<tr>\n",
    "<td>IV-a</td>\n",
    "<td>Marine fish of the Northwest Pacific (North America), North American north Atlantic coast, Japan, and Korea</td>\n",
    "</tr>\n",
    "\n",
    "<tr>\n",
    "<td>IV-b</td>\n",
    "<td>Freshwater fish in North American Great Lakes region</td>\n",
    "</tr>\n",
    "\n",
    "</table>"
   ]
  },
  {
   "cell_type": "markdown",
   "metadata": {},
   "source": [
    "Votre réponse..."
   ]
  },
  {
   "cell_type": "markdown",
   "metadata": {},
   "source": [
    "## 4. Pour aller plus loin… L’épidémiologie\n",
    "\n",
    "Les virus évoluent très rapidement à l’échelle de la vie humaine, et peuvent se propager rapidement à travers le monde. Un exemple de virus qui évolue très rapidement est la grippe saisonnière. Après chaque hiver, une grande partie de la population développe des anticorps contre la grippe de cette année et est donc immunisée… Mais comme le virus de la grippe évolue rapidement, l’année suivante, un nouveau mutant apparaît pour lequel la majorité de la population n’est pas complètement immunisée. Le vaccin basé sur la grippe de l’année précédente ne protège donc que partiellement la population, et est totalement inefficace dans les rares cas où un nouveau sous-type de grippe apparaît, créant un grand risque de pandémie.\n",
    "La bioinformatique est très utile pour suivre l’évolution de la grippe et comprendre comment elle se propage.\n",
    "\n",
    "<p style=\"background-color:#AFEEEE;padding:3px\"><font size=\"4\"><b>4.1 </b></font>Par rapport à l’analyse faite ici, quel facteur important faudrait-il prendre en compte pour pouvoir identifier les “routes” empruntées par le virus pour se propager (i.e. “de où à où il va”)? (50 mots maximum)\n",
    "</p>"
   ]
  },
  {
   "cell_type": "markdown",
   "metadata": {},
   "source": [
    "Votre réponse..."
   ]
  },
  {
   "cell_type": "markdown",
   "metadata": {},
   "source": [
    "<p style=\"background-color:#AFEEEE;padding:3px\"><font size=\"4\"><b>4.2 </b></font>Le [virus Zika](https://www.who.int/wer/2015/wer9045.pdf) a fait la une de l'actualité il y a quelque temps (2015). En effet, au Brésil, les autorités sanitaires locales ont observé une recrudescence de cas atteints du syndrome Guillain-Barré qui coincident avec des cas d'infections à virus Zika dans le grand public, ainsi qu’une augmentation du nombre de nouveau-nés atteints de microcéphalie dans le nord-est du pays [source: site OMS]. Répétez l'analyse de la Section 1 avec la requête <font face=\"courier\">'zika virus[orgn] NOT \"mRNA\"[title]'</font>. Est-ce que le virus a été isolé et séquencé en Argentine (si oui, combien de fois)?\n",
    "</p>"
   ]
  },
  {
   "cell_type": "markdown",
   "metadata": {},
   "source": [
    "Votre réponse..."
   ]
  }
 ],
 "metadata": {
  "kernelspec": {
   "display_name": "Python 3",
   "language": "python",
   "name": "python3"
  },
  "language_info": {
   "codemirror_mode": {
    "name": "ipython",
    "version": 3
   },
   "file_extension": ".py",
   "mimetype": "text/x-python",
   "name": "python",
   "nbconvert_exporter": "python",
   "pygments_lexer": "ipython3",
   "version": "3.7.6"
  }
 },
 "nbformat": 4,
 "nbformat_minor": 1
}
