{
 "cells": [
  {
   "cell_type": "markdown",
   "metadata": {},
   "source": [
    "# BBC - Laboratoire 2\n",
    "## Alignement de séquences et arbres phylogénétiques\n",
    "\n",
    "- Professeur: Carlos Peña (<a href=\"mailto:carlos.pena@heig-vd.ch\">carlos.pena@heig-vd.ch</a>)\n",
    "- Assistant: Xavier Brochet (<a href=\"mailto:xavier.brochet@heig-vd.ch\">xavier.brochet@heig-vd.ch</a>)\n",
    "\n",
    "Date: Printemps 2020"
   ]
  },
  {
   "cell_type": "markdown",
   "metadata": {},
   "source": [
    "> ## Objectifs pédagogiques\n",
    "Pour réaliser ce laboratoire, du vocabulaire et des notions de base en biologie seront introduits ou perfectionnés (revoir Labo-1 si nécessaire). A la fin du laboratoire, l’étudiant devrait:\n",
    "- Etre à l’aise avec l’utilisation d’Entrez Direct pour accéder à Genbank.\n",
    "- Savoir utiliser des outils d’alignement de séquence, à l’aide du logiciel Aliview et avec la librairie biopython.\n",
    "- Savoir construire un arbre phylogénétique à partir d’un alignement et l’interpréter.\n",
    "\n",
    "\n",
    "> ## But du labo\n",
    "La septicémie hémorragique virale est une maladie très contagieuse et mortelle qui touche les poissons de type salmonidés (les humains ne sont pas touchés). Elle est causée par un virus qui engendre chaque année de grosses pertes économiques pour les pisciculteurs. Votre but est de visualiser comment le virus se propage dans le monde, en comparant les séquences de la protéine G (glycoprotéine se trouvant à la surface du virus) de plusieurs isolats.\n",
    "\n",
    "> ## Démarche\n",
    "1. Visualisation de la présence du virus dans le monde (Genbank, Entrez Direct et biopython).\n",
    "2. Alignement des séquences protéiques pour pouvoir les comparer (MUSCLE, (ClustalW), Clustal Omega).\n",
    "3. Construction de l’arbre phylogénétique et clustering hiérarchique pour identifier des groupes d’isolats similaires.\n",
    "\n",
    "\n",
    "> ## Rapport de labo\n",
    "\n",
    "> <p >Merci de répondre aux questions posées sur fond cyan de façon concise dans la cellule située <u>juste en dessous</u>, et de nous retourner ce notebook.\n",
    "> <p style=\"background-color:#AFEEEE;padding:3px\"><font size=\"4\"><b>0. </b></font> Ceci est une question.</p>"
   ]
  },
  {
   "cell_type": "markdown",
   "metadata": {},
   "source": [
    "## 1. Le virus dans le monde - visualisation d’isolats séquencés\n",
    "\n",
    "Comme lors du premier labo, vous allez apprendre à utiliser certains outils à la fois en mode graphique et en mode ligne de commande.\n",
    "\n",
    "Votre premier objectif est de récupérer sur Genbank la localisation géographique de toutes les souches séquencées du virus (protéine G uniquement) et de les visualiser sur une carte du monde.\n",
    "\n",
    "<b>→ Depuis votre navigateur, allez sur le site de [Genbank](http://www.ncbi.nlm.nih.gov/genbank/) et dans la barre de recherche, tapez</b>: G[gene] AND VHSV[orgn] NOT \"mRNA\"[title] AND \"complete cds\"[title]\n",
    "\n",
    "Cette requête limite les recherches aux entrées dont le nom du gène s’intitule G, dont l’organisme est le VHSV (Viral Hemorrhagic Septicemia Virus), dont le titre ne contient pas le mot “mRNA” et dont la séquence est complète.\n",
    "\n",
    "<b>→ Cliquez sur la deuxième entrée: https://www.ncbi.nlm.nih.gov/nuccore/MH836523.1</b>\n",
    "\n",
    "Dans la partie FEATURES - source, vous pouvez voir que le pays d’origine est Islande.\n",
    "\n",
    "<b>→ Cliquez sur cette entrée: [http://www.ncbi.nlm.nih.gov/nuccore/341904092](http://www.ncbi.nlm.nih.gov/nuccore/341904092) </b>\n",
    "Vous pouvez voir qu’en plus du pays, la latitude et la longitude sont également indiqués.\n",
    "\n",
    "<p style=\"background-color:#AFEEEE;padding:3px\"><font size=\"4\"><b>1.1 </b></font>Quelles sont les coordonnées (latitude, longitude) et pays d’origine de l’isolat dont l'ACCESSION=HQ112233 et gi=341904064 (attention le gi n'est officiellement plus utilisé)?</p>"
   ]
  },
  {
   "cell_type": "markdown",
   "metadata": {},
   "source": [
    "- Pays d'origine : Finland: Bothnian Sea\n",
    "- Coordonnées : 61.01 N 18.30 E"
   ]
  },
  {
   "cell_type": "markdown",
   "metadata": {},
   "source": [
    "Votre recherche avec la requête initiale a retourné 390 entrées. Afin de récupérer les données géographiques de tous les isolats, il vous faut avoir recours à un langage de script. Comme vu au Labo-1, nous ferons appel à Entrez Direct en utilisant la librairie biopython.\n",
    "\n",
    "<b>→ Importez les modules suivants</b>"
   ]
  },
  {
   "cell_type": "code",
   "execution_count": 1,
   "metadata": {},
   "outputs": [
    {
     "name": "stderr",
     "output_type": "stream",
     "text": [
      "\n",
      "Bad key \"text.kerning_factor\" on line 4 in\n",
      "/home/jael/miniconda3/envs/bbc_2/lib/python3.7/site-packages/matplotlib/mpl-data/stylelib/_classic_test_patch.mplstyle.\n",
      "You probably need to get an updated matplotlibrc file from\n",
      "https://github.com/matplotlib/matplotlib/blob/v3.1.3/matplotlibrc.template\n",
      "or from the matplotlib source distribution\n"
     ]
    }
   ],
   "source": [
    "from Bio import Entrez\n",
    "Entrez.email = \"jael.dubey@heig-vd.ch\" # une adresse email valide est nécessaire\n",
    "from mpl_toolkits.basemap import Basemap # pour dessiner une carte du monde\n",
    "import matplotlib.pyplot as plt # pour générer des graphiques\n",
    "%matplotlib inline"
   ]
  },
  {
   "cell_type": "markdown",
   "metadata": {},
   "source": [
    "<b>→ Commencez par récupérer les identifiants gi correspondant à la requête en utilisant Entrez.esearch()</b>"
   ]
  },
  {
   "cell_type": "code",
   "execution_count": 2,
   "metadata": {},
   "outputs": [
    {
     "name": "stdout",
     "output_type": "stream",
     "text": [
      "['1686200771', '1526309610', '1526309608', '1270117903', '1270117901', '1270117899', '1270119027', '1270119025', '1270119023', '1149552508', '1149552506', '1149552504', '1149552502', '1149552500', '1149552498', '1149552496', '1149552494', '1149552492', '1149552490', '1149552488', '1149552486', '1149552484', '1149552482', '1149552480', '1149552478', '1149552476', '1149552474', '1149552472', '1149552470', '1149552468', '1149552466', '1149552464', '1149552462', '1149552460', '1149552458', '1149552456', '1149552454', '1149552452', '1149552450', '1149552448', '1149552446', '1149552444', '1149552442', '1149552440', '1149552438', '1149552436', '1149552434', '1149552432', '1149552430', '1149552428', '1149552426', '1149552424', '1149552422', '1149552420', '1149552418', '1139485311', '1139485309', '1139485307', '1139485305', '1139485303', '1139485301', '1139485299', '1139485297', '1139485295', '1139485293', '1139485291', '1139485289', '1139485287', '1139485285', '1139485283', '1139485281', '1139485279', '1139485277', '1139485275', '1139485273', '1139485271', '1139485269', '1139485267', '1139485265', '1139485263', '1139485261', '1139485259', '1139485257', '1139485255', '1139485253', '1060107711', '1060107709', '1060107707', '1060107705', '1060107703', '1060107701', '1060107699', '1060107697', '1060107695', '1060107693', '1060107691', '1060107689', '1060107687', '1060107685', '1060107683', '1060107681', '1060107679', '1060107677', '1060107675', '1060107673', '1060107671', '1060107669', '1060107667', '1060107665', '1060107663', '1060107661', '1060107659', '1060107657', '1060107655', '1060107653', '1060107651', '1060107649', '1060107647', '1060107645', '1060107643', '1060107641', '1060107639', '1060107637', '1060107635', '1060107633', '1060107631', '1060107629', '1060107627', '1060107625', '1060107623', '1060107621', '1060107619', '1060107617', '1060107615', '1060107613', '1060107611', '1060107609', '1060107607', '1060107605', '1060107603', '1060107601', '1060107599', '1060107597', '1060107595', '1060107593', '1060107591', '1060107589', '1060107587', '1060107585', '1060107583', '1060107581', '1060107579', '1060107577', '1060107575', '1060107573', '1060107571', '1060107569', '1060107567', '1060107565', '1060107563', '1060107561', '1060107559', '1060107557', '1060107555', '1060107553', '1060107551', '1060107549', '1060107547', '1060107545', '1060107543', '1060107541', '1060107539', '1060107537', '1060107535', '1060107533', '1060107531', '1060107529', '1060107527', '1060107525', '1060107523', '1060107521', '1060107519', '1060107517', '1060107515', '1060107513', '1060107511', '1060107509', '1060107507', '1060107505', '1060107503', '1060107501', '1060107499', '1060107497', '228551618', '228551613', '228551610', '228551607', '914283810', '914283808', '914283806', '914283765', '807059086', '807059079', '755257687', '755257685', '755257683', '667630679', '312983613', '388603056', '388603046', '379023903', '379023901', '379023899', '379023897', '379023895', '379023893', '379023891', '379023889', '379023887', '379023885', '379023883', '379023881', '379023879', '379023877', '379023875', '379023873', '379023871', '379023869', '379023867', '379023865', '379023863', '379023861', '379023859', '379023857', '386870525', '386870515', '379023851', '379023849', '379023847', '379023845', '379023843', '379023841', '379023839', '379023837', '379023835', '379023833', '379023831', '379023829', '379023827', '379023825', '379023823', '379023821', '379023819', '379023817', '379023815', '379023813', '379023811', '379023809', '379023807', '379023805', '379023803', '379023801', '379023799', '379023797', '379023795', '379023793', '379023791', '379023789', '379023787', '379023785', '379023783', '379023781', '379023779', '379023777', '379023775', '379023773', '379023771', '379023769', '379023767', '379023765', '379023763', '379023761', '379023759', '379023757', '379023755', '379023753', '379023751', '379023749', '379023747', '379023745', '379023743', '379023741', '379023739', '379023737', '379023735', '341904094', '341904092', '341904090', '341904088', '341904086', '341904084', '341904082', '341904080', '341904078', '341904076', '341904074', '341904072', '341904070', '341904068', '341904066', '341904064', '298155635', '298155633', '46561979', '46561977', '46561975', '46561973', '46561971', '46561969', '46561967', '46561965', '46561963', '46561961', '46561959', '46561957', '46561955', '46561953', '46561951', '46561949', '46561947', '46561945', '46561943', '46561941', '46561939', '46561937', '46561935', '46561933', '46561931', '46561929', '46561927', '46561925', '46561923', '46561921', '46561919', '46561917', '46561915', '46561913', '46561911', '46561909', '46561907', '46561905', '46561903', '46561901', '46561899', '46561897', '46561895', '46561893', '46561891', '46561889', '46561887', '46561885', '46561883', '46561881', '46561879', '46561877', '46561875', '46561873', '46561871', '46561869', '46561867', '46561865', '46561863', '46561861', '46561859', '46561857', '46561855', '294167009', '294167076', '227955292', '89242338', '89242336', '89242334', '89242332', '89242330', '89242328', '89242326', '89242324', '89242322', '89242320', '254305168', '189021924']\n"
     ]
    }
   ],
   "source": [
    "query = 'G[gene] AND VHSV[orgn] NOT \"mRNA\"[title] AND \"complete cds\"[title]'\n",
    "handle = Entrez.esearch(db='nucleotide',retmax=1000,term=query)\n",
    "record = Entrez.read(handle)\n",
    "gi = record['IdList']\n",
    "print(gi)"
   ]
  },
  {
   "cell_type": "markdown",
   "metadata": {},
   "source": [
    "<b>→ Allez chercher les informations Genbank sur ces séquences en utilisant Entrez.efetch()</b>"
   ]
  },
  {
   "cell_type": "code",
   "execution_count": 3,
   "metadata": {
    "scrolled": true
   },
   "outputs": [],
   "source": [
    "protein_info = Entrez.efetch(db=\"nucleotide\",id=gi,rettype=\"gb\",retmode=\"xml\")\n",
    "protein_info = Entrez.read(protein_info)"
   ]
  },
  {
   "cell_type": "markdown",
   "metadata": {},
   "source": [
    "<font face='courier'>protein_info</font> est une liste de 390 éléments. Chaque élément consiste en une structure de listes et dictionnaires contenant toute l’information de Genbank correpondant à la requête.\n",
    "\n",
    "<b>→ Imprimez le dixième élément de protein_info et quelques unes de ses caractéristiques.</b>\n"
   ]
  },
  {
   "cell_type": "code",
   "execution_count": 12,
   "metadata": {
    "scrolled": true
   },
   "outputs": [
    {
     "name": "stdout",
     "output_type": "stream",
     "text": [
      "{'GBSeq_locus': 'KU728261', 'GBSeq_length': '1524', 'GBSeq_strandedness': 'single', 'GBSeq_moltype': 'cRNA', 'GBSeq_topology': 'linear', 'GBSeq_division': 'VRL', 'GBSeq_update-date': '01-MAR-2017', 'GBSeq_create-date': '01-MAR-2017', 'GBSeq_definition': 'Viral hemorrhagic septicemia virus isolate DK-7822 glycoprotein (G) gene, complete cds', 'GBSeq_primary-accession': 'KU728261', 'GBSeq_accession-version': 'KU728261.1', 'GBSeq_other-seqids': ['gb|KU728261.1|', 'gi|1149552506'], 'GBSeq_source': 'Viral hemorrhagic septicemia virus', 'GBSeq_organism': 'Viral hemorrhagic septicemia virus', 'GBSeq_taxonomy': 'Viruses; ssRNA viruses; ssRNA negative-strand viruses; Mononegavirales; Rhabdoviridae; Novirhabdovirus', 'GBSeq_references': [{'GBReference_reference': '1', 'GBReference_position': '1..1524', 'GBReference_authors': ['Mikkelsen,S.S.', 'Panzarin,V.', 'Schuetze,H.', 'Skall,H.F.', 'Fusaro,A.', 'Korsholm,H.', 'Olesen,N.-J.'], 'GBReference_title': 'Molecular tracing of viral hemorrhagic septicemia outbreaks in Denmark', 'GBReference_journal': 'Unpublished'}, {'GBReference_reference': '2', 'GBReference_position': '1..1524', 'GBReference_authors': ['Mikkelsen,S.S.', 'Schuetze,H.'], 'GBReference_title': 'Direct Submission', 'GBReference_journal': 'Submitted (18-FEB-2016) Section for Diagnostics and Scientific Advice, DTU Veterinary Institute, Bulowsvej 27, Frederiksberg 1870, Denmark'}], 'GBSeq_comment': '##Assembly-Data-START## ; Sequencing Technology :: Sanger dideoxy sequencing ; ##Assembly-Data-END##', 'GBSeq_feature-table': [{'GBFeature_key': 'source', 'GBFeature_location': '1..1524', 'GBFeature_intervals': [{'GBInterval_from': '1', 'GBInterval_to': '1524', 'GBInterval_accession': 'KU728261.1'}], 'GBFeature_quals': [{'GBQualifier_name': 'organism', 'GBQualifier_value': 'Viral hemorrhagic septicemia virus'}, {'GBQualifier_name': 'mol_type', 'GBQualifier_value': 'viral cRNA'}, {'GBQualifier_name': 'isolate', 'GBQualifier_value': 'DK-7822'}, {'GBQualifier_name': 'host', 'GBQualifier_value': 'Oncorhynchus mykiss'}, {'GBQualifier_name': 'db_xref', 'GBQualifier_value': 'taxon:11287'}, {'GBQualifier_name': 'country', 'GBQualifier_value': 'Denmark'}, {'GBQualifier_name': 'collection_date', 'GBQualifier_value': '22-Feb-1995'}, {'GBQualifier_name': 'note', 'GBQualifier_value': 'genotype: 1a'}]}, {'GBFeature_key': 'gene', 'GBFeature_location': '1..1524', 'GBFeature_intervals': [{'GBInterval_from': '1', 'GBInterval_to': '1524', 'GBInterval_accession': 'KU728261.1'}], 'GBFeature_quals': [{'GBQualifier_name': 'gene', 'GBQualifier_value': 'G'}]}, {'GBFeature_key': 'CDS', 'GBFeature_location': '1..1524', 'GBFeature_intervals': [{'GBInterval_from': '1', 'GBInterval_to': '1524', 'GBInterval_accession': 'KU728261.1'}], 'GBFeature_quals': [{'GBQualifier_name': 'gene', 'GBQualifier_value': 'G'}, {'GBQualifier_name': 'codon_start', 'GBQualifier_value': '1'}, {'GBQualifier_name': 'transl_table', 'GBQualifier_value': '1'}, {'GBQualifier_name': 'product', 'GBQualifier_value': 'glycoprotein'}, {'GBQualifier_name': 'protein_id', 'GBQualifier_value': 'AQT19223.1'}, {'GBQualifier_name': 'translation', 'GBQualifier_value': 'MEWNTFFLVILIIIIKSTTPQITQRPPVENISTYHADWDTPLYTHPSNCRDDSFVPIRPAQLRCPHEFEDINRGLVSVPTKIIHLPLSVTSVSAVASGHYLHRVTYRVTCSTSFFGGQTIEKTILEAKLSRQEATDEASKDHEYPFFPEPSCIWMKNNVHKDITHYYKTPKTVSVDLYSRKFLNPDFIEGVCTTSPCQTHWQGVYWVGATPNAHCPTSETLEGHLFTRTHDHRVVKAIVAGHHPWGLTMACTVTFCGEDWIKTDLGDLIQVTGPGGTGKLTPNKCVNTDVQMRGATDDFSYLNHLITNMAQRTECLDAHSDITASGKVSSFLLSKFRPSHPGPGKAHYLLDGQIMRGDCDYEAVVSINYNSAQYKTVNNTWKSWKRVDNNTDGYDGMIFGDKLIIPDIEKYQSVYDSGMLVQRNLVEVPHLSIVFVSNTSDLSTNHIHTNLIPSDWSFHWSLWPSLSGMGVVGGAFLLLVLCCCCKASPPTPNYGIPMQQFSRSQTV'}]}], 'GBSeq_sequence': 'atggaatggaatactttcttcttggtgatcttgatcatcatcataaagagcaccacaccacagatcactcaacgacctccggttgaaaacatctcgacgtaccatgcagattgggacactccgctatacactcatccctccaactgcagggacgattcctttgtcccgattcgaccagctcaactcaggtgtcctcatgaatttgaagacataaacaggggactggtttccgtcccaaccaagatcatccatctcccgctatcagtcaccagcgtctccgcagtagcgagcggccactacctgcacagagtgacttatcgagtcacctgttcgaccagcttctttggagggcaaaccattgaaaagaccatcttggaggcgaaactgtctcgtcaggaggccacagacgaggcaagcaaggaccacgagtacccgttcttccctgaaccctcctgcatctggatgaaaaacaatgtccataaggacataactcactattacaagaccccaaaaacagtatcggtggatctctacagcaggaaatttctcaaccctgatttcatcgaaggggtctgcacaacctcgccctgtcaaactcattggcagggagtctattgggtcggcgccacacccaatgcccattgccccacgtcggaaacactagaaggacacctgttcaccaggacccatgatcacagggtggtcaaggcaattgtggcaggccatcatccctggggactcacaatggcatgcacagtgacattctgcggggaagattggatcaagactgacctgggagacctgatccaggtgacaggaccggggggcacggggaaactgactccaaataagtgtgtcaacactgatgtccagatgaggggggcaacagacgacttttcttatctcaaccatctcatcaccaacatggctcaaagaaccgagtgcctagatgcccatagtgatatcaccgcttctgggaaagtgtcctcatttctcctctcaaagtttcgtcccagccaccctggacccggcaaggcacactatcttctagacggtcaaatcatgcgaggtgactgtgactatgaggcagtagtcagcatcaactacaacagcgctcaatacaagacggtgaacaacacatggaaatcatggaaacgggtggacaacaacacagacgggtacgatgggatgatatttggggacaaattgatcatcccggacatcgagaagtatcagagtgtctatgacagtggaatgctcgttcaaagaaaccttgtggaagtccctcatctgagcattgtgtttgtctccaacacatctgatctttccactaatcacatccacaccaacctaatcccttcggattggtcattccactggagtctttggccctcattgtctgggatgggggttgtgggaggggccttccttctactggtgctttgctgttgctgcaaggcgtcccctccaactccaaactacgggattccgatgcagcagttctccagaagtcagacggtctga'}\n",
      "\n",
      "\n",
      "dict_keys(['GBSeq_locus', 'GBSeq_length', 'GBSeq_strandedness', 'GBSeq_moltype', 'GBSeq_topology', 'GBSeq_division', 'GBSeq_update-date', 'GBSeq_create-date', 'GBSeq_definition', 'GBSeq_primary-accession', 'GBSeq_accession-version', 'GBSeq_other-seqids', 'GBSeq_source', 'GBSeq_organism', 'GBSeq_taxonomy', 'GBSeq_references', 'GBSeq_comment', 'GBSeq_feature-table', 'GBSeq_sequence'])\n",
      "\n",
      "\n",
      "[{'GBQualifier_name': 'organism', 'GBQualifier_value': 'Viral hemorrhagic septicemia virus'}, {'GBQualifier_name': 'mol_type', 'GBQualifier_value': 'viral cRNA'}, {'GBQualifier_name': 'isolate', 'GBQualifier_value': 'DK-7822'}, {'GBQualifier_name': 'host', 'GBQualifier_value': 'Oncorhynchus mykiss'}, {'GBQualifier_name': 'db_xref', 'GBQualifier_value': 'taxon:11287'}, {'GBQualifier_name': 'country', 'GBQualifier_value': 'Denmark'}, {'GBQualifier_name': 'collection_date', 'GBQualifier_value': '22-Feb-1995'}, {'GBQualifier_name': 'note', 'GBQualifier_value': 'genotype: 1a'}]\n"
     ]
    }
   ],
   "source": [
    "print(protein_info[10])\n",
    "print('')\n",
    "print('')\n",
    "print(protein_info[10].keys())\n",
    "print('')\n",
    "print('')\n",
    "features = protein_info[10]['GBSeq_feature-table'][0]['GBFeature_quals']\n",
    "print(features)"
   ]
  },
  {
   "cell_type": "markdown",
   "metadata": {},
   "source": [
    "<p style=\"background-color:#AFEEEE;padding:3px\"><font size=\"4\"><b>1.2 </b></font> Quel est le pays d’origine du 60ème isolat dans notre liste?\n",
    "</p>"
   ]
  },
  {
   "cell_type": "code",
   "execution_count": 5,
   "metadata": {},
   "outputs": [
    {
     "name": "stdout",
     "output_type": "stream",
     "text": [
      "Denmark\n"
     ]
    }
   ],
   "source": [
    "print(protein_info[60]['GBSeq_feature-table'][0]['GBFeature_quals'][5][\"GBQualifier_value\"])"
   ]
  },
  {
   "cell_type": "markdown",
   "metadata": {},
   "source": [
    "- Pays d'origine : Danemark"
   ]
  },
  {
   "cell_type": "markdown",
   "metadata": {},
   "source": [
    "<b>→ Pour extraire le pays automatiquement, faites une boucle sur les features jusqu’à tomber sur “country”:</b>"
   ]
  },
  {
   "cell_type": "code",
   "execution_count": 13,
   "metadata": {},
   "outputs": [
    {
     "name": "stdout",
     "output_type": "stream",
     "text": [
      "Pays d'origine: Denmark\n"
     ]
    }
   ],
   "source": [
    "for j,feat in enumerate(features):\n",
    "    if feat['GBQualifier_name']=='country':\n",
    "        print(\"Pays d'origine: \"+feat['GBQualifier_value'].split(':')[0])"
   ]
  },
  {
   "cell_type": "markdown",
   "metadata": {},
   "source": [
    "<p style=\"background-color:#AFEEEE;padding:3px\"><font size=\"4\"><b>1.3 </b></font> Généralisez ce code pour qu’il imprime le pays d’origine des 390 isolats et enregistre le résultat dans une variable (liste de 390 éléments) appelée <font face='courier'>country</font> (si le pays n’est pas disponible, ajoutez le texte ‘NA’ (not available) à la place).\n",
    "</p>"
   ]
  },
  {
   "cell_type": "code",
   "execution_count": 19,
   "metadata": {},
   "outputs": [],
   "source": [
    "countries = []\n",
    "\n",
    "for i in protein_info:\n",
    "    f = i['GBSeq_feature-table'][0]['GBFeature_quals']\n",
    "    c = \"\"\n",
    "    for j,feat in enumerate(f):\n",
    "        if feat['GBQualifier_name']=='country':\n",
    "            c = feat['GBQualifier_value'].split(':')[0]\n",
    "    if c == \"\":\n",
    "        countries.append(\"NA\")\n",
    "    else:\n",
    "        countries.append(c)"
   ]
  },
  {
   "cell_type": "markdown",
   "metadata": {},
   "source": [
    "<b>→ Pour certains isolats, la latitude et la longitude sont également indiqués. Par exemple, exécutez:</b>\n"
   ]
  },
  {
   "cell_type": "code",
   "execution_count": 16,
   "metadata": {},
   "outputs": [
    {
     "name": "stdout",
     "output_type": "stream",
     "text": [
      "[{'GBQualifier_name': 'organism', 'GBQualifier_value': 'Viral hemorrhagic septicemia virus'}, {'GBQualifier_name': 'mol_type', 'GBQualifier_value': 'viral cRNA'}, {'GBQualifier_name': 'isolate', 'GBQualifier_value': 'ka664_04'}, {'GBQualifier_name': 'db_xref', 'GBQualifier_value': 'taxon:11287'}, {'GBQualifier_name': 'country', 'GBQualifier_value': 'Finland: Archipelago Sea'}, {'GBQualifier_name': 'lat_lon', 'GBQualifier_value': '60.29 N 21.29 E'}, {'GBQualifier_name': 'collection_date', 'GBQualifier_value': '09-Jun-2004'}, {'GBQualifier_name': 'identified_by', 'GBQualifier_value': 'T. Gadd'}, {'GBQualifier_name': 'PCR_primers', 'GBQualifier_value': 'fwd_name: G1_forward, fwd_seq: cgggcaggcgaaggacta, fwd_name: G2_forward, fwd_seq: atggaatggaatacttttttc, fwd_seq: caacctcgccctgtcaaactcat, fwd_seq: tggacccggcaaggcacact, rev_name: G1_reverse, rev_seq: cggagacgctggtgactgata, rev_name: G2_reverse, rev_seq: tgtgatcatgggtcctggtg, rev_name: G3_reverse, rev_seq: gtccccaaatatcatcccatcgta, rev_name: NAH_reverse, rev_seq: ctaggagacttatcctcatgtc'}]\n"
     ]
    }
   ],
   "source": [
    "print(protein_info[295]['GBSeq_feature-table'][0]['GBFeature_quals'])"
   ]
  },
  {
   "cell_type": "markdown",
   "metadata": {},
   "source": [
    "Dans ce cas, <font face='courier'>lat_lon = 60.29 N 21.29 E</font> (latitude 60.29°, longitude 21.29°).\n",
    "\n",
    "<p style=\"background-color:#AFEEEE;padding:3px\"><font size=\"4\"><b>1.4 </b></font>  Généralisez votre code pour qu’il enregistre aussi la latitude et la longitude dans deux variables séparées (mettez un <font face='courier'>float(‘nan’)</font> si elles ne sont pas disponibles). Astuce: Utilisez la fonction split(‘ ‘) pour extraire les nombres qui vous intéressent de lat_lon (à convertir en float aussi). \n",
    "</p>"
   ]
  },
  {
   "cell_type": "code",
   "execution_count": 24,
   "metadata": {},
   "outputs": [],
   "source": [
    "countries = []\n",
    "lat_lon = []\n",
    "\n",
    "for i in protein_info:\n",
    "    f = i['GBSeq_feature-table'][0]['GBFeature_quals']\n",
    "    c = \"\"\n",
    "    ll = \"\"\n",
    "    for j,feat in enumerate(f):\n",
    "        if feat['GBQualifier_name']=='country':\n",
    "            c = feat['GBQualifier_value'].split(':')[0]\n",
    "        if feat['GBQualifier_name']=='lat_lon':\n",
    "            ll = (feat['GBQualifier_value'].split(' ')[0], feat['GBQualifier_value'].split(' ')[2])\n",
    "    if c == \"\":\n",
    "        countries.append(\"NA\")\n",
    "    else:\n",
    "        countries.append(c)\n",
    "        \n",
    "    if ll == \"\":\n",
    "        lat_lon.append((float('nan'), float('nan')))\n",
    "    else:\n",
    "        lat_lon.append(ll)"
   ]
  },
  {
   "cell_type": "markdown",
   "metadata": {},
   "source": [
    "Comme vous le verrez, la latitude et la longitude ne sont disponibles que pour un petit nombre d’isolats, alors que le pays d’origine est connu pour la majorité d’entre eux. Afin de pouvoir représenter les isolats sur une carte du monde, nous allons utiliser une valeur moyenne de latitude et de longitude par pays pour les isolats dont on ne connaît que le pays d’origine.\n",
    "\n",
    "<b>→ Utilisez la librairie pandas pour lire le fichier countries_latlon.csv.</b>\n",
    "> En cas de soucis d'encodage, ajoutez les lignes suivantes à ~./bash_profile et re-lancez ipython notebook:\n",
    "> <p>export LC_ALL=en_US.UTF-8</p>\n",
    "> export LANG=en_US.UTF-8"
   ]
  },
  {
   "cell_type": "code",
   "execution_count": null,
   "metadata": {},
   "outputs": [],
   "source": [
    "import pandas as pd # très utile pour lire des fichiers du type csv, tsv, etc.\n",
    "country_latlon = pd.read_csv('countries_latlon.csv',sep='\\t',header=0)\n",
    "print(country_latlon)"
   ]
  },
  {
   "cell_type": "markdown",
   "metadata": {
    "collapsed": true
   },
   "source": [
    "<b>→ Pour trouver la latitude et la longitude moyenne de l’Iran par exemple, exécutez le code suivant:</b>"
   ]
  },
  {
   "cell_type": "code",
   "execution_count": null,
   "metadata": {},
   "outputs": [],
   "source": [
    "idx_country = list(country_latlon['country']).index('Iran')\n",
    "lat = country_latlon['latitude'][idx_country]\n",
    "lon = country_latlon['longitude'][idx_country]\n",
    "print('Latitude: '+str(lat))\n",
    "print('Longitude: '+str(lon))"
   ]
  },
  {
   "cell_type": "markdown",
   "metadata": {},
   "source": [
    "<p style=\"background-color:#AFEEEE;padding:3px\"><font size=\"4\"><b>1.5 (a) </b></font> Généralisez votre code pour qu’il enregistre la latitude et la longitude moyenne lorsque celles-ci ne sont pas disponibles mais que vous connaissez le pays d’origine.</p>\n",
    "\n",
    "<p style=\"background-color:#AFEEEE;padding:3px\"><font size=\"4\"><b>1.5 (b) </b></font>Afin de retrouver facilement les isolats par leur accession.version (en plus du gi), définissez aussi <font face='courier'>name=[]</font> et rajoutez dans votre boucle </b><font face='courier'>name.append(protein_info[i]['GBSeq_accession-version'])</font>\n",
    "</p>"
   ]
  },
  {
   "cell_type": "code",
   "execution_count": 26,
   "metadata": {},
   "outputs": [],
   "source": [
    "#Votre code pour 1.5a et 1.5b..."
   ]
  },
  {
   "cell_type": "markdown",
   "metadata": {},
   "source": [
    "<p style=\"background-color:#AFEEEE;padding:3px\"><font size=\"4\"><b>1.5 (c) </b></font>Réécrire le code mais en éliminant les isolats dont le pays n'est pas indiqué. Garder la même structure <font face='courier'> country = [], lat = [], long = [], name=[].</font></p>"
   ]
  },
  {
   "cell_type": "code",
   "execution_count": null,
   "metadata": {},
   "outputs": [],
   "source": [
    "#Votre code 1.5c..."
   ]
  },
  {
   "cell_type": "markdown",
   "metadata": {},
   "source": [
    "<b>→ Connaissant la latitude et la longitude de la majorité des isolats, représentez-les graphiquement sur une carte du monde:</b>\n"
   ]
  },
  {
   "cell_type": "code",
   "execution_count": null,
   "metadata": {
    "scrolled": true
   },
   "outputs": [],
   "source": [
    "%matplotlib inline\n",
    "import matplotlib.pyplot as plt\n",
    "from mpl_toolkits.basemap import Basemap\n",
    "\n",
    "fig = plt.figure(num=None,figsize=(10,7),dpi=150) # ouvre une fenêtre\n",
    "m = Basemap(projection='kav7',lon_0=0,lat_0=60) # carte du monde avec projection\n",
    "x, y = m(long,lat) # transforme lat,lon avec la projection utilisée\n",
    "m.scatter(x,y,7,marker='.',color='r') # représente les isolats en rouge\n",
    "m.fillcontinents(zorder=0) # dessine les continents\n",
    "plt.show()     \n",
    "fig.savefig('map_isolats.png', dpi=fig.dpi) # sauve la figure"
   ]
  },
  {
   "cell_type": "markdown",
   "metadata": {},
   "source": [
    "<p style=\"background-color:#AFEEEE;padding:3px\"><font size=\"4\"><b>1.6 </b></font>A votre avis, s’agit-il d’un virus qui se reproduit dans les eaux chaudes ou plutôt dans les eaux froides?</p>"
   ]
  },
  {
   "cell_type": "markdown",
   "metadata": {},
   "source": [
    "Votre réponse..."
   ]
  },
  {
   "cell_type": "markdown",
   "metadata": {},
   "source": [
    "\n",
    "\n",
    "\n",
    "## 2. Alignement des séquences protéiques pour pouvoir les comparer\n",
    "Afin de comprendre comment le virus s’est propagé dans le monde, nous allons comparer les séquences protéiques des différents isolats. Ceci nous permettra de regrouper les isolats “les plus similaires” et nous ferons l’hypothèse vraisemblable qu’il ont une origine commune du fait de leur similarité.\n",
    "\n",
    "Pour comparer les séquences protéiques et voir à quel point elles diffèrent, il est nécessaire de commencer par les aligner. Vous allez apprendre à utiliser l’outil graphique Aliview pour aligner les séquences et les inspecter visuellement. Vous verrez par la suite comment réaliser ces mêmes opérations directement en python avec la librairie biopython, ce qui vous permettra d’automatiser le processus.\n",
    "\n",
    "<b>→ Utilisez la liste de gi pour pouvoir générer un fichier fasta contenant toutes les séquences protéiques qui nous intéressent (pour rappel, notre requête initiale était: <font face='courier'>'G[gene] AND VHSV[orgn] NOT \"mRNA\"[title]\"</font></b>\n"
   ]
  },
  {
   "cell_type": "code",
   "execution_count": null,
   "metadata": {},
   "outputs": [],
   "source": [
    "from Bio import SeqIO\n",
    "print(len(gi))\n",
    "#print(len(giWCountry))\n",
    "protein_seq = Entrez.efetch(db=\"nucleotide\",id=gi,rettype=\"fasta_cds_aa\",retmode=\"text\")\n",
    "#protein_seq = Entrez.efetch(db=\"nucleotide\",id=giWCountry,rettype=\"fasta_cds_aa\",retmode=\"text\")\n",
    "protein_seq = list(SeqIO.parse(protein_seq, \"fasta\"))\n",
    "print(len(protein_seq))"
   ]
  },
  {
   "cell_type": "markdown",
   "metadata": {},
   "source": [
    "<b>→ Imprimez l’élément 0 et l’élément 212 de <font face='courier'>protein_seq</font></b>"
   ]
  },
  {
   "cell_type": "code",
   "execution_count": null,
   "metadata": {},
   "outputs": [],
   "source": [
    "print(protein_seq[0])\n",
    "print('')\n",
    "print(protein_seq[212])\n",
    "print('')\n",
    "print(len(protein_seq))"
   ]
  },
  {
   "cell_type": "markdown",
   "metadata": {},
   "source": [
    "<p style=\"background-color:#AFEEEE;padding:3px\"><font size=\"4\"><b>2.1 </b></font>Que constatez-vous concernant le nom du gène de <font face='courier'>protein_seq[212]</font> et le nombre d'entrées retournées? Pourquoi ce gène apparaît-il dans notre liste si la requête initiale exigeait “G[gene]” (astuce: allez voir sur le site de Genbank l'entrée correspondant à l’identifiant KM244768).</p>"
   ]
  },
  {
   "cell_type": "markdown",
   "metadata": {},
   "source": [
    "Votre réponse..."
   ]
  },
  {
   "cell_type": "markdown",
   "metadata": {},
   "source": [
    "Avant de continuer, nous devons donc nous assurer que seules les séquences protéiques correspondant au gène G sont gardées.\n",
    "\n",
    "<b>→ Faites une boucle pour tester le nom du gène</b>\n"
   ]
  },
  {
   "cell_type": "code",
   "execution_count": null,
   "metadata": {},
   "outputs": [],
   "source": [
    "print(len(protein_seq))\n",
    "updated_protein_seq = [ ps for i,ps in enumerate(protein_seq) if ps.description.find('gene=G')>0 ]\n",
    "print(len(updated_protein_seq))\n",
    "\n",
    "# verify visually that only G genes are left\n",
    "desc = [ps.description for i,ps in enumerate(updated_protein_seq)]\n",
    "desc"
   ]
  },
  {
   "cell_type": "markdown",
   "metadata": {},
   "source": [
    "<b>→ Maintenant que vous avez les séquences du gène G uniquement, remplacez l'id par le numéro d'accès et le nom du pays source (ceci facilitera les analyses par la suite).</b>"
   ]
  },
  {
   "cell_type": "code",
   "execution_count": null,
   "metadata": {},
   "outputs": [],
   "source": [
    "print(len(updated_protein_seq))\n",
    "for i,ps in enumerate(updated_protein_seq):\n",
    "    access_number = ps.name.split('|')[1].split('_')[0]\n",
    "    print(str(i)+\" \"+country[i])\n",
    "    country_tmp = country[i].replace(' ','-')\n",
    "    updated_protein_seq[i].description = ''\n",
    "    updated_protein_seq[i].id = access_number+'_'+country_tmp"
   ]
  },
  {
   "cell_type": "markdown",
   "metadata": {},
   "source": [
    "<b>→ Créez un fichier FASTA avec ces séquences et ouvrez-le avec un éditeur de texte pour voir ce qu'il contient.</b>"
   ]
  },
  {
   "cell_type": "code",
   "execution_count": null,
   "metadata": {},
   "outputs": [],
   "source": [
    "output_handle = open('labo-2_protein-sequences.fasta', 'w')\n",
    "SeqIO.write(updated_protein_seq, output_handle, \"fasta\")\n",
    "output_handle.close()"
   ]
  },
  {
   "cell_type": "markdown",
   "metadata": {},
   "source": [
    "Installation de Aliview: https://ormbunkar.se/aliview/\n",
    "\n",
    "<b>→ Sur votre ordinateur, lancez le programme Aliview et utilisez File > Open File pour ouvrir le fichier que vous venez de créer.</b>"
   ]
  },
  {
   "cell_type": "markdown",
   "metadata": {},
   "source": [
    "<b>→ Sur Aliview, allez sur Align > Realign everything et cliquez sur Ok.</b>\n",
    "\n",
    "Par défaut, Aliview utilise l’algorithme MUSCLE pour aligner les séquences. \n",
    "\n",
    "<b>→ Sur Aliview, inspectez l’alignement visuellement et assurez-vous que tout semble normal.</b>\n",
    "\n",
    "<p style=\"background-color:#AFEEEE;padding:3px\"><font size=\"4\"><b>2.2 </b></font>Pourquoi est-ce que l'une des séquences est plus courte que les autres? Astuce: allez sur Genbank depuis votre navigateur pour voir l'entrée correspondant à la séquence très courte.</p>\n"
   ]
  },
  {
   "cell_type": "markdown",
   "metadata": {},
   "source": [
    "Votre réponse... (25 mots maximum)"
   ]
  },
  {
   "cell_type": "markdown",
   "metadata": {},
   "source": [
    "Sur Aliview, il est possible d’enregistrer l’alignement: File > Save as Clustal (aln). \n",
    "\n",
    "Pour la suite du labo, nous allons générer ce même alignement à l’aide de la librairie biopython et faire quelques analyses sur cet alignement.\n",
    "\n",
    "<b>→ Importez les modules suivants:</b>"
   ]
  },
  {
   "cell_type": "code",
   "execution_count": null,
   "metadata": {},
   "outputs": [],
   "source": [
    "from Bio.Align.Applications import MuscleCommandline\n",
    "from Bio import AlignIO"
   ]
  },
  {
   "cell_type": "markdown",
   "metadata": {},
   "source": [
    "<b>→ Spécifiez le chemin vers votre exécutable muscle</b>\n",
    "https://drive5.com/muscle/downloads.htm"
   ]
  },
  {
   "cell_type": "code",
   "execution_count": null,
   "metadata": {},
   "outputs": [],
   "source": [
    "muscle_loc = r'/Users/..../muscle3.8.31_i86darwin64' #mettre le vrai chemin"
   ]
  },
  {
   "cell_type": "markdown",
   "metadata": {},
   "source": [
    "<b>→ Réalisez l’alignement à partir du fichier FASTA contenant les séquences</b>"
   ]
  },
  {
   "cell_type": "code",
   "execution_count": null,
   "metadata": {
    "scrolled": true
   },
   "outputs": [],
   "source": [
    "in_file = 'labo-2_protein-sequences.fasta'\n",
    "out_file = 'labo-2_protein-sequences.aln'\n",
    "\n",
    "muscle_cline = MuscleCommandline(cmd=muscle_loc,input=in_file,out=out_file,clwstrict=True)\n",
    "stdout, stderr = muscle_cline()\n",
    "\n",
    "muscle_align = AlignIO.read(out_file,'clustal') # this command actually performs the alignment\n",
    "print(muscle_align)"
   ]
  },
  {
   "cell_type": "markdown",
   "metadata": {},
   "source": [
    "Le fichier .aln généré peut être ouvert dans Aliview pour l’inspecter visuellement.\n",
    "\n",
    "## 3. Construction de l’arbre phylogénétique et clustering hiérarchique pour identifier des groupes similaires\n",
    "A partir de cet alignement, il est possible de générer un arbre phylogénétique. Par souci de temps, nous utiliserons FastTree qui est très rapide, même si cet outil n’est pas le mieux adapté pour construire un arbre phylogénétique à partir de séquences très proches comme c’est le cas ici.\n",
    "\n",
    "<b>→ Générez l’arbre avec FastTree: http://microbesonline.org/fasttree/#Install </b>\n"
   ]
  },
  {
   "cell_type": "code",
   "execution_count": null,
   "metadata": {
    "scrolled": true
   },
   "outputs": [],
   "source": [
    "from Bio.Phylo.Applications import FastTreeCommandline\n",
    "\n",
    "# convert aln to phy format\n",
    "out_phy = 'labo-2_protein-sequences.phy'\n",
    "AlignIO.convert(out_file,'clustal',out_phy, 'phylip-relaxed')\n",
    "\n",
    "# generate the phylogenetic tree with FastTree\n",
    "out_tree = 'labo-2_protein-sequences.tre'\n",
    "cmd_fasttree = r'/Users/.../FastTree' # modifier si nécessaire\n",
    "\n",
    "fasttree_cmdline = FastTreeCommandline(cmd=cmd_fasttree,fastest=True,input=out_phy,out=out_tree)\n",
    "out_log, err_log = fasttree_cmdline()\n",
    "\n",
    "# load tree\n",
    "from Bio import Phylo\n",
    "tree = Phylo.read('labo-2_protein-sequences.tre', 'newick')"
   ]
  },
  {
   "cell_type": "markdown",
   "metadata": {},
   "source": [
    "<b>→ Ouvrez le fichier <font face='courier'>labo-2_protein-sequences.tre</font> dans TreeViewX et choisissez le mode de visualisation “phylogram” (bouton en haut à droite) et zoomez pour voir les groupes.</b>\n",
    "\n",
    "Utilisation de http://ab.inf.uni-tuebingen.de/data/software/dendroscope3/download/welcome.html\n",
    "ou de iToL en ligne... https://itol.embl.de/\n",
    "\n",
    "<p style=\"background-color:#AFEEEE;padding:3px\"><font size=\"4\"><b>3.1 </b></font>De quels pays vient l'isolat le plus proches des isolats de Corée du Sud?</p>"
   ]
  },
  {
   "cell_type": "markdown",
   "metadata": {},
   "source": [
    "Votre réponse..."
   ]
  },
  {
   "cell_type": "markdown",
   "metadata": {},
   "source": [
    "Combien de groupes voyez-vous? \n",
    "Ca dépend! Le nombre de groupes dépend du seuil utilisé pour admettre, ou non, que deux isolats font partie du même groupe. \n",
    "\n",
    "Afin de mieux visualiser la propagation du virus dans le monde, nous allons regrouper les séquences (i.e. les isolats) en 4 groupes et voir leur localisation géographique sur une carte du monde. Pour obtenir ces 4 groupes, nous allons commencer par calculer les distances (phylogénétiques) entre les isolats et réaliser un clustering hiérarchique à partir duquel nous obtiendrons 4 groupes.\n",
    "\n",
    "<b>→ Calculez les distances entre les isolats</b> (ceci peut prendre un petit moment...)\n"
   ]
  },
  {
   "cell_type": "code",
   "execution_count": null,
   "metadata": {},
   "outputs": [],
   "source": [
    "dmat = []\n",
    "leaves = [str(cladit) for k,cladit in enumerate(tree.get_terminals())]\n",
    "for l1,leave1 in enumerate(leaves):\n",
    "    d = []\n",
    "    for l2,leave2 in enumerate(leaves):\n",
    "        d.append(tree.distance(leave1,leave2))\n",
    "    dmat.append(d)"
   ]
  },
  {
   "cell_type": "markdown",
   "metadata": {},
   "source": [
    "<b>→ Réalisez le clustering hiérarchique et visualisez le dendrogram obtenu (double-cliquez sur le graphique pour l'agrandir)</b>"
   ]
  },
  {
   "cell_type": "code",
   "execution_count": null,
   "metadata": {},
   "outputs": [],
   "source": [
    "import scipy.cluster.hierarchy as cl\n",
    "import scipy.spatial.distance as ssd\n",
    "\n",
    "Z = cl.linkage(ssd.squareform(dmat),method='average',metric='euclidean')\n",
    "fig = plt.figure(num=None,figsize=(60,15),dpi=250)\n",
    "dendro=cl.dendrogram(Z,labels=leaves,color_threshold=0.06,leaf_rotation=90,leaf_font_size=9)\n",
    "plt.show()"
   ]
  },
  {
   "cell_type": "markdown",
   "metadata": {},
   "source": [
    "<b>→ Représentez les isolats de chaque groupe sur une carte du monde</b>"
   ]
  },
  {
   "cell_type": "code",
   "execution_count": null,
   "metadata": {},
   "outputs": [],
   "source": [
    "nb_clusters = 4\n",
    "clusters = cl.fcluster(Z,nb_clusters,criterion='maxclust')\n",
    "\n",
    "for i in range(1,max(clusters)+1):\n",
    "\n",
    "    idxi = [j for j,cluster in enumerate(clusters) if cluster==i]\n",
    "    \n",
    "    lat_tmp = []\n",
    "    lon_tmp = []\n",
    "    for j,idxj in enumerate(idxi):\n",
    "        access_number_of_leave = leaves[idxj].split('_')[0]\n",
    "        lat_tmp.append(lat[name.index(access_number_of_leave)])\n",
    "        lon_tmp.append(long[name.index(access_number_of_leave)])\n",
    "    \n",
    "    # plot\n",
    "    fig = plt.figure(num=None,figsize=(7,6),dpi=150)   \n",
    "    m = Basemap(projection='kav7',lon_0=0,lat_0=60)\n",
    "    x, y = m(lon_tmp,lat_tmp) # transform (lat,lon) with the projection\n",
    "    m.scatter(x,y,7,marker='.',color='k')\n",
    "    m.fillcontinents(zorder=0)\n",
    "    plt.title('Group '+str(i))\n",
    "    plt.show()        \n",
    "    fig.savefig('map_isolats-'+str(i)+'.png', dpi=fig.dpi)"
   ]
  },
  {
   "cell_type": "markdown",
   "metadata": {},
   "source": [
    "Sur plusieurs de ces figures, vous pouvez voir que le virus “voyage” parfois même de très longues distances. L’une des raisons principales de cette propagation vient de l’échange d’oeufs et de larves de poissons contaminés entre pisciculteurs du monde entier (p.ex. entre l’Amérique du Nord et l’Asie).\n",
    "\n",
    "<p style=\"background-color:#AFEEEE;padding:3px\"><font size=\"4\"><b>3.2 </b></font>A l’aide du tableau ci-dessous, définissez le(s) genotype(s) probable auxquels appartiennent les 4 groupes identifiés. \n",
    "</p>\n",
    "\n",
    "<i>Nota: Ces génotypes ont été définis en comparant les séquences des protéines G et N, alors qu’ici nous n’avons étudié que la protéine G.</i>\n",
    "\n",
    "<table>\n",
    "\n",
    "<tr>\n",
    "<td><b>Type</b></td>\n",
    "<td><b>Prevalent host type and location (source: <a href=\"https://en.wikipedia.org/wiki/Viral_hemorrhagic_septicemia\">Wikipedia</a>)</b></td>\n",
    "</tr>\n",
    "\n",
    "<tr>\n",
    "<td>I-a</td>\n",
    "<td>Farmed rainbow trout and a few other freshwater fish in continental Europe</td>\n",
    "</tr>\n",
    "\n",
    "<tr>\n",
    "<td>I-b</td>\n",
    "<td>Marine fish of the Baltic Sea, Skagerrak, Kattegat, North Sea, Japan</td>\n",
    "</tr>\n",
    "\n",
    "<tr>\n",
    "<td>I-c</td>\n",
    "<td>Farmed rainbow trout Denmark</td>\n",
    "</tr>\n",
    "\n",
    "<tr>\n",
    "<td>I-d</td>\n",
    "<td>Farmed rainbow trout in Norway, Finland, Gulf of Bothnia</td>\n",
    "</tr>\n",
    "\n",
    "<tr>\n",
    "<td>I-e</td>\n",
    "<td>Rainbow trout in Georgia, farmed and wild turbot in the Black Sea</td>\n",
    "</tr>\n",
    "\n",
    "<tr>\n",
    "<td>II</td>\n",
    "<td>Marine fish of the Baltic Sea</td>\n",
    "</tr>\n",
    "\n",
    "<tr>\n",
    "<td>III</td>\n",
    "<td>Marine fish of the British Isles and northern France, farmed turbot in the UK and Ireland, and Greenland halibut (Reinhardtius hippoglossoides) in Greenland</td>\n",
    "</tr>\n",
    "\n",
    "<tr>\n",
    "<td>IV-a</td>\n",
    "<td>Marine fish of the Northwest Pacific (North America), North American north Atlantic coast, Japan, and Korea</td>\n",
    "</tr>\n",
    "\n",
    "<tr>\n",
    "<td>IV-b</td>\n",
    "<td>Freshwater fish in North American Great Lakes region</td>\n",
    "</tr>\n",
    "\n",
    "</table>"
   ]
  },
  {
   "cell_type": "markdown",
   "metadata": {},
   "source": [
    "Votre réponse..."
   ]
  },
  {
   "cell_type": "markdown",
   "metadata": {},
   "source": [
    "## 4. Pour aller plus loin… L’épidémiologie\n",
    "\n",
    "Les virus évoluent très rapidement à l’échelle de la vie humaine, et peuvent se propager rapidement à travers le monde. Un exemple de virus qui évolue très rapidement est la grippe saisonnière. Après chaque hiver, une grande partie de la population développe des anticorps contre la grippe de cette année et est donc immunisée… Mais comme le virus de la grippe évolue rapidement, l’année suivante, un nouveau mutant apparaît pour lequel la majorité de la population n’est pas complètement immunisée. Le vaccin basé sur la grippe de l’année précédente ne protège donc que partiellement la population, et est totalement inefficace dans les rares cas où un nouveau sous-type de grippe apparaît, créant un grand risque de pandémie.\n",
    "La bioinformatique est très utile pour suivre l’évolution de la grippe et comprendre comment elle se propage.\n",
    "\n",
    "<p style=\"background-color:#AFEEEE;padding:3px\"><font size=\"4\"><b>4.1 </b></font>Par rapport à l’analyse faite ici, quel facteur important faudrait-il prendre en compte pour pouvoir identifier les “routes” empruntées par le virus pour se propager (i.e. “de où à où il va”)? (50 mots maximum)\n",
    "</p>"
   ]
  },
  {
   "cell_type": "markdown",
   "metadata": {},
   "source": [
    "Votre réponse..."
   ]
  },
  {
   "cell_type": "markdown",
   "metadata": {},
   "source": [
    "<p style=\"background-color:#AFEEEE;padding:3px\"><font size=\"4\"><b>4.2 </b></font>Le [virus Zika](https://www.who.int/wer/2015/wer9045.pdf) a fait la une de l'actualité il y a quelque temps (2015). En effet, au Brésil, les autorités sanitaires locales ont observé une recrudescence de cas atteints du syndrome Guillain-Barré qui coincident avec des cas d'infections à virus Zika dans le grand public, ainsi qu’une augmentation du nombre de nouveau-nés atteints de microcéphalie dans le nord-est du pays [source: site OMS]. Répétez l'analyse de la Section 1 avec la requête <font face=\"courier\">'zika virus[orgn] NOT \"mRNA\"[title]'</font>. Est-ce que le virus a été isolé et séquencé en Argentine (si oui, combien de fois)?\n",
    "</p>"
   ]
  },
  {
   "cell_type": "markdown",
   "metadata": {},
   "source": [
    "Votre réponse..."
   ]
  }
 ],
 "metadata": {
  "kernelspec": {
   "display_name": "Python 3",
   "language": "python",
   "name": "python3"
  },
  "language_info": {
   "codemirror_mode": {
    "name": "ipython",
    "version": 3
   },
   "file_extension": ".py",
   "mimetype": "text/x-python",
   "name": "python",
   "nbconvert_exporter": "python",
   "pygments_lexer": "ipython3",
   "version": "3.7.7"
  }
 },
 "nbformat": 4,
 "nbformat_minor": 1
}
